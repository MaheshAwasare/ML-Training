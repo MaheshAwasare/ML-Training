{
 "cells": [
  {
   "cell_type": "code",
   "execution_count": 1,
   "id": "699cb81d",
   "metadata": {},
   "outputs": [],
   "source": [
    "import numpy as np\n",
    "\n"
   ]
  },
  {
   "cell_type": "code",
   "execution_count": 2,
   "id": "d413b38d",
   "metadata": {},
   "outputs": [],
   "source": [
    "# Features of houses\n",
    "house1 = np.array([2000, 3, 2])\n",
    "house2 = np.array([1500, 2, 1])\n",
    "\n"
   ]
  },
  {
   "cell_type": "code",
   "execution_count": 3,
   "id": "e79e0aeb",
   "metadata": {},
   "outputs": [
    {
     "name": "stdout",
     "output_type": "stream",
     "text": [
      "House 1: [2000    3    2]\n",
      "House 2: [1500    2    1]\n"
     ]
    }
   ],
   "source": [
    "# Print the vectors\n",
    "print(\"House 1:\", house1)\n",
    "print(\"House 2:\", house2)\n"
   ]
  },
  {
   "cell_type": "code",
   "execution_count": 5,
   "id": "9ff5a3ad",
   "metadata": {},
   "outputs": [
    {
     "name": "stdout",
     "output_type": "stream",
     "text": [
      "[[0.5        0.5        0.         0.5        0.         0.\n",
      "  0.5       ]\n",
      " [0.         0.         0.57735027 0.         0.57735027 0.57735027\n",
      "  0.        ]]\n"
     ]
    }
   ],
   "source": [
    "from sklearn.feature_extraction.text import TfidfVectorizer\n",
    "\n",
    "corpus = [\"We are learning AI\", \"LOL, she laughed\"]\n",
    "vectorizer = TfidfVectorizer()\n",
    "X = vectorizer.fit_transform(corpus)\n",
    "print(X.toarray())  # Output: Sparse matrix of word embeddings"
   ]
  },
  {
   "cell_type": "code",
   "execution_count": null,
   "id": "99362a4f",
   "metadata": {},
   "outputs": [],
   "source": []
  }
 ],
 "metadata": {
  "kernelspec": {
   "display_name": "Python 3 (ipykernel)",
   "language": "python",
   "name": "python3"
  },
  "language_info": {
   "codemirror_mode": {
    "name": "ipython",
    "version": 3
   },
   "file_extension": ".py",
   "mimetype": "text/x-python",
   "name": "python",
   "nbconvert_exporter": "python",
   "pygments_lexer": "ipython3",
   "version": "3.11.5"
  }
 },
 "nbformat": 4,
 "nbformat_minor": 5
}
